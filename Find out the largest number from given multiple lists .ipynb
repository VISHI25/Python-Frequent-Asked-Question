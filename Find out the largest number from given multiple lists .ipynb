{
 "cells": [
  {
   "cell_type": "markdown",
   "metadata": {},
   "source": [
    "Find out the largest number from given multiple lists without sorting. (Len of all lists may or may not be equal)\n",
    "\n",
    "\n",
    "e.g. input list1   => [1, 12, 43, 15]\n",
    "\n",
    "input list2   => [11, 3, 4, 55, 46]\n",
    "\n",
    "input list3   => [2, 23, 44, 85, 15]\n"
   ]
  },
  {
   "cell_type": "code",
   "execution_count": 50,
   "metadata": {},
   "outputs": [],
   "source": [
    "list1  = [1, 12, 43, 15]\n",
    "\n",
    "list2  = [11, 3, 4, 55, 46]\n",
    "\n",
    "list3  = [2, 23, 44, 85, 15,16]\n",
    "    \n"
   ]
  },
  {
   "cell_type": "code",
   "execution_count": 51,
   "metadata": {},
   "outputs": [
    {
     "name": "stdout",
     "output_type": "stream",
     "text": [
      "6\n"
     ]
    }
   ],
   "source": [
    "# Step 1 : Get the maximum length of all list \n",
    "\n",
    "longest_length = max(len(list1) ,len(list2) ,len(list3))\n",
    "\n",
    "print(longest_length)"
   ]
  },
  {
   "cell_type": "code",
   "execution_count": 52,
   "metadata": {},
   "outputs": [],
   "source": [
    "# Step 2  : Fill the 0 where length is less than longest_length\n",
    "\n",
    "if len(list1) < longest_length:\n",
    "    difference_one = longest_length - len(list1)\n",
    "    for i in range (difference_one):\n",
    "        list1.append(0)\n",
    "        \n",
    "if len(list2) < longest_length:\n",
    "    difference_two = longest_length - len(list2)\n",
    "    for i in range (difference_two):\n",
    "        list2.append(0)\n",
    "        \n",
    "if len(list3) < longest_length:\n",
    "    difference_three = longest_length - len(list3)\n",
    "    for i in range (difference_three):\n",
    "        list3.append(0)"
   ]
  },
  {
   "cell_type": "code",
   "execution_count": 53,
   "metadata": {},
   "outputs": [
    {
     "name": "stdout",
     "output_type": "stream",
     "text": [
      "[1, 12, 43, 15, 0, 0]\n",
      "[11, 3, 4, 55, 46, 0]\n",
      "[2, 23, 44, 85, 15, 16]\n"
     ]
    }
   ],
   "source": [
    "# Step 3 : Check the values from all list \n",
    "\n",
    "print(list1)\n",
    "print(list2)\n",
    "print(list3)"
   ]
  },
  {
   "cell_type": "code",
   "execution_count": 57,
   "metadata": {},
   "outputs": [
    {
     "name": "stdout",
     "output_type": "stream",
     "text": [
      "[11, 23, 44, 85, 46, 16]\n",
      "85\n"
     ]
    }
   ],
   "source": [
    "# Step 4 : Loop till longest lentth and get the maximum from from all list and append it in new list \n",
    "\n",
    "sumlist = []\n",
    "\n",
    "for i in range (longest_length):\n",
    "    biggest_number = max(list1[i], list2[i], list3[i])\n",
    "    sumlist.append(biggest_number)\n",
    "\n",
    "print(sumlist)\n",
    "max1 = max(sumlist)\n"
   ]
  },
  {
   "cell_type": "code",
   "execution_count": 58,
   "metadata": {},
   "outputs": [
    {
     "name": "stdout",
     "output_type": "stream",
     "text": [
      "85\n"
     ]
    }
   ],
   "source": [
    "# Step 5 : Print the maximum from new list sumlist\n",
    "print(max1)"
   ]
  },
  {
   "cell_type": "code",
   "execution_count": null,
   "metadata": {},
   "outputs": [],
   "source": []
  }
 ],
 "metadata": {
  "kernelspec": {
   "display_name": "Python 3",
   "language": "python",
   "name": "python3"
  },
  "language_info": {
   "codemirror_mode": {
    "name": "ipython",
    "version": 3
   },
   "file_extension": ".py",
   "mimetype": "text/x-python",
   "name": "python",
   "nbconvert_exporter": "python",
   "pygments_lexer": "ipython3",
   "version": "3.8.3"
  }
 },
 "nbformat": 4,
 "nbformat_minor": 4
}
